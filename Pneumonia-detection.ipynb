{
 "cells": [
  {
   "cell_type": "code",
   "execution_count": 1,
   "metadata": {},
   "outputs": [],
   "source": [
    "import tensorflow as tf\n",
    "import os\n",
    "import random\n",
    "import cv2\n",
    "import numpy as np\n",
    "import pandas as pd\n",
    "import matplotlib.pyplot as plt\n",
    "from sklearn.metrics import confusion_matrix, classification_report"
   ]
  },
  {
   "cell_type": "code",
   "execution_count": 2,
   "metadata": {},
   "outputs": [
    {
     "name": "stdout",
     "output_type": "stream",
     "text": [
      "Number of normal training examples : 1341\n",
      "Number of pneumonia training examples : 3875\n",
      "Number of normal validation examples : 8\n",
      "Number of pneumonia validation examples : 8\n",
      "Number of normal testing examples : 234\n",
      "Number of pneumonia testing examples : 390\n"
     ]
    }
   ],
   "source": [
    "dataset_dir = 'chest_xray'\n",
    "\n",
    "train_normal = len(os.listdir(os.path.join(dataset_dir, 'train', 'NORMAL')))\n",
    "train_pneumonia = len(os.listdir(os.path.join(dataset_dir, 'train', 'PNEUMONIA')))\n",
    "val_normal = len(os.listdir(os.path.join(dataset_dir, 'val', 'NORMAL')))\n",
    "val_pneumonia = len(os.listdir(os.path.join(dataset_dir, 'val', 'PNEUMONIA')))\n",
    "test_normal = len(os.listdir(os.path.join(dataset_dir, 'test', 'NORMAL')))\n",
    "test_pneumonia = len(os.listdir(os.path.join(dataset_dir, 'test', 'PNEUMONIA')))\n",
    "\n",
    "print(f'Number of normal training examples : {train_normal}')\n",
    "print(f'Number of pneumonia training examples : {train_pneumonia}')\n",
    "print(f'Number of normal validation examples : {val_normal}')\n",
    "print(f'Number of pneumonia validation examples : {val_pneumonia}')\n",
    "print(f'Number of normal testing examples : {test_normal}')\n",
    "print(f'Number of pneumonia testing examples : {test_pneumonia}')"
   ]
  },
  {
   "cell_type": "code",
   "execution_count": 3,
   "metadata": {},
   "outputs": [],
   "source": [
    "img_size = 200\n",
    "batch_size_train = 16\n",
    "batch_size_val = 16\n",
    "epochs = 20\n",
    "\n",
    "train_steps_per_epoch = (len(os.listdir(os.path.join('chest_xray', 'train', 'NORMAL')))\n",
    "                         +len(os.listdir(os.path.join('chest_xray', 'train', 'PNEUMONIA'))))//batch_size_train\n",
    "valid_steps_per_epoch = (len(os.listdir(os.path.join('chest_xray', 'val', 'NORMAL')))\n",
    "                        +len(os.listdir(os.path.join('chest_xray', 'val', 'PNEUMONIA'))))//batch_size_val"
   ]
  },
  {
   "cell_type": "code",
   "execution_count": 4,
   "metadata": {},
   "outputs": [
    {
     "name": "stdout",
     "output_type": "stream",
     "text": [
      "Found 5216 images belonging to 2 classes.\n",
      "Found 16 images belonging to 2 classes.\n"
     ]
    }
   ],
   "source": [
    "train_data_gen = tf.keras.preprocessing.image.ImageDataGenerator(rescale=1/255.0,\n",
    "                                                                rotation_range = 30,\n",
    "                                                                zoom_range = 0.2,\n",
    "                                                                width_shift_range=0.1,  \n",
    "                                                                height_shift_range=0.1)\n",
    "\n",
    "valid_data_gen = tf.keras.preprocessing.image.ImageDataGenerator(rescale=1/255.0)\n",
    "\n",
    "train_generator = train_data_gen.flow_from_directory(os.path.join('chest_xray', 'train'), batch_size=batch_size_train, \n",
    "                                                     target_size=(img_size,img_size), shuffle=True, class_mode='binary')\n",
    "\n",
    "valid_generator = valid_data_gen.flow_from_directory(os.path.join('chest_xray', 'val'), batch_size=batch_size_val,\n",
    "                                              target_size=(img_size,img_size), shuffle=True, class_mode='binary')"
   ]
  },
  {
   "cell_type": "code",
   "execution_count": 5,
   "metadata": {
    "scrolled": true
   },
   "outputs": [
    {
     "name": "stdout",
     "output_type": "stream",
     "text": [
      "Model: \"sequential\"\n",
      "_________________________________________________________________\n",
      "Layer (type)                 Output Shape              Param #   \n",
      "=================================================================\n",
      "conv2d (Conv2D)              (None, 198, 198, 16)      448       \n",
      "_________________________________________________________________\n",
      "max_pooling2d (MaxPooling2D) (None, 99, 99, 16)        0         \n",
      "_________________________________________________________________\n",
      "conv2d_1 (Conv2D)            (None, 97, 97, 32)        4640      \n",
      "_________________________________________________________________\n",
      "max_pooling2d_1 (MaxPooling2 (None, 48, 48, 32)        0         \n",
      "_________________________________________________________________\n",
      "dropout (Dropout)            (None, 48, 48, 32)        0         \n",
      "_________________________________________________________________\n",
      "conv2d_2 (Conv2D)            (None, 46, 46, 64)        18496     \n",
      "_________________________________________________________________\n",
      "max_pooling2d_2 (MaxPooling2 (None, 23, 23, 64)        0         \n",
      "_________________________________________________________________\n",
      "dropout_1 (Dropout)          (None, 23, 23, 64)        0         \n",
      "_________________________________________________________________\n",
      "conv2d_3 (Conv2D)            (None, 21, 21, 128)       73856     \n",
      "_________________________________________________________________\n",
      "max_pooling2d_3 (MaxPooling2 (None, 10, 10, 128)       0         \n",
      "_________________________________________________________________\n",
      "dropout_2 (Dropout)          (None, 10, 10, 128)       0         \n",
      "_________________________________________________________________\n",
      "conv2d_4 (Conv2D)            (None, 8, 8, 256)         295168    \n",
      "_________________________________________________________________\n",
      "max_pooling2d_4 (MaxPooling2 (None, 4, 4, 256)         0         \n",
      "_________________________________________________________________\n",
      "flatten (Flatten)            (None, 4096)              0         \n",
      "_________________________________________________________________\n",
      "dropout_3 (Dropout)          (None, 4096)              0         \n",
      "_________________________________________________________________\n",
      "dense (Dense)                (None, 256)               1048832   \n",
      "_________________________________________________________________\n",
      "dropout_4 (Dropout)          (None, 256)               0         \n",
      "_________________________________________________________________\n",
      "dense_1 (Dense)              (None, 128)               32896     \n",
      "_________________________________________________________________\n",
      "dropout_5 (Dropout)          (None, 128)               0         \n",
      "_________________________________________________________________\n",
      "dense_2 (Dense)              (None, 64)                8256      \n",
      "_________________________________________________________________\n",
      "dense_3 (Dense)              (None, 1)                 65        \n",
      "=================================================================\n",
      "Total params: 1,482,657\n",
      "Trainable params: 1,482,657\n",
      "Non-trainable params: 0\n",
      "_________________________________________________________________\n"
     ]
    }
   ],
   "source": [
    "model = tf.keras.models.Sequential([\n",
    "    tf.keras.layers.Conv2D(16, (3,3), activation='relu', input_shape=(img_size, img_size, 3)),\n",
    "    tf.keras.layers.MaxPooling2D((2,2)),\n",
    "    tf.keras.layers.Conv2D(32, (3,3), activation='relu'),\n",
    "    tf.keras.layers.MaxPooling2D((2,2)),\n",
    "    tf.keras.layers.Dropout(0.3),\n",
    "    tf.keras.layers.Conv2D(64, (3,3), activation='relu'),\n",
    "    tf.keras.layers.MaxPooling2D((2,2)),\n",
    "    tf.keras.layers.Dropout(0.3),\n",
    "    tf.keras.layers.Conv2D(128, (3,3), activation='relu'),\n",
    "    tf.keras.layers.MaxPooling2D((2,2)),\n",
    "    tf.keras.layers.Dropout(0.3),\n",
    "    tf.keras.layers.Conv2D(256, (3,3), activation='relu'),\n",
    "    tf.keras.layers.MaxPooling2D((2,2)),\n",
    "    tf.keras.layers.Flatten(),\n",
    "    tf.keras.layers.Dropout(0.3),\n",
    "    tf.keras.layers.Dense(256, activation='relu'),\n",
    "    tf.keras.layers.Dropout(0.3),\n",
    "    tf.keras.layers.Dense(128, activation='relu'),\n",
    "    tf.keras.layers.Dropout(0.3),\n",
    "    tf.keras.layers.Dense(64, activation='relu'),\n",
    "    tf.keras.layers.Dense(1, activation='sigmoid')\n",
    "])\n",
    "\n",
    "\n",
    "    \n",
    "model.summary()\n"
   ]
  },
  {
   "cell_type": "code",
   "execution_count": 6,
   "metadata": {
    "scrolled": false
   },
   "outputs": [
    {
     "name": "stdout",
     "output_type": "stream",
     "text": [
      "WARNING:tensorflow:sample_weight modes were coerced from\n",
      "  ...\n",
      "    to  \n",
      "  ['...']\n",
      "WARNING:tensorflow:sample_weight modes were coerced from\n",
      "  ...\n",
      "    to  \n",
      "  ['...']\n",
      "Train for 326 steps, validate for 1 steps\n",
      "Epoch 1/20\n",
      "326/326 [==============================] - 108s 333ms/step - loss: 0.5884 - accuracy: 0.7410 - val_loss: 0.8147 - val_accuracy: 0.5000\n",
      "Epoch 2/20\n",
      "326/326 [==============================] - 142s 434ms/step - loss: 0.5429 - accuracy: 0.7444 - val_loss: 0.6106 - val_accuracy: 0.6250\n",
      "Epoch 3/20\n",
      "326/326 [==============================] - 142s 435ms/step - loss: 0.4643 - accuracy: 0.7772 - val_loss: 0.6205 - val_accuracy: 0.7500\n",
      "Epoch 4/20\n",
      "326/326 [==============================] - 148s 455ms/step - loss: 0.4400 - accuracy: 0.7851 - val_loss: 0.5970 - val_accuracy: 0.7500\n",
      "Epoch 5/20\n",
      "326/326 [==============================] - 144s 442ms/step - loss: 0.4442 - accuracy: 0.7933 - val_loss: 0.5509 - val_accuracy: 0.8125\n",
      "Epoch 6/20\n",
      "326/326 [==============================] - 144s 443ms/step - loss: 0.4079 - accuracy: 0.8037 - val_loss: 0.4879 - val_accuracy: 0.6875\n",
      "Epoch 7/20\n",
      "326/326 [==============================] - 143s 440ms/step - loss: 0.4229 - accuracy: 0.8046 - val_loss: 0.5153 - val_accuracy: 0.7500\n",
      "Epoch 8/20\n",
      "326/326 [==============================] - 143s 440ms/step - loss: 0.4078 - accuracy: 0.8171 - val_loss: 0.4659 - val_accuracy: 0.7500\n",
      "Epoch 9/20\n",
      "326/326 [==============================] - 146s 446ms/step - loss: 0.3934 - accuracy: 0.8238 - val_loss: 0.4324 - val_accuracy: 0.8125\n",
      "Epoch 10/20\n",
      "326/326 [==============================] - 145s 446ms/step - loss: 0.3934 - accuracy: 0.8286 - val_loss: 0.4419 - val_accuracy: 0.8125\n",
      "Epoch 11/20\n",
      "326/326 [==============================] - 149s 457ms/step - loss: 0.3562 - accuracy: 0.8482 - val_loss: 0.2776 - val_accuracy: 0.8750\n",
      "Epoch 12/20\n",
      "326/326 [==============================] - 152s 465ms/step - loss: 0.2926 - accuracy: 0.8767 - val_loss: 0.2837 - val_accuracy: 0.7500\n",
      "Epoch 13/20\n",
      "326/326 [==============================] - 148s 454ms/step - loss: 0.2805 - accuracy: 0.8827 - val_loss: 0.2066 - val_accuracy: 0.8750\n",
      "Epoch 14/20\n",
      "326/326 [==============================] - 144s 441ms/step - loss: 0.2531 - accuracy: 0.8995 - val_loss: 0.4987 - val_accuracy: 0.8125\n",
      "Epoch 15/20\n",
      "326/326 [==============================] - 149s 457ms/step - loss: 0.2193 - accuracy: 0.9168 - val_loss: 0.5768 - val_accuracy: 0.7500\n",
      "Epoch 16/20\n",
      "326/326 [==============================] - 144s 441ms/step - loss: 0.2324 - accuracy: 0.9107 - val_loss: 0.4209 - val_accuracy: 0.8125\n",
      "Epoch 17/20\n",
      "326/326 [==============================] - 142s 434ms/step - loss: 0.2101 - accuracy: 0.9120 - val_loss: 0.8675 - val_accuracy: 0.6250\n",
      "Epoch 18/20\n",
      "326/326 [==============================] - 141s 434ms/step - loss: 0.2051 - accuracy: 0.9197 - val_loss: 0.5186 - val_accuracy: 0.8125\n",
      "Epoch 19/20\n",
      "326/326 [==============================] - 146s 447ms/step - loss: 0.1887 - accuracy: 0.9258 - val_loss: 0.6926 - val_accuracy: 0.7500\n",
      "Epoch 20/20\n",
      "326/326 [==============================] - 147s 451ms/step - loss: 0.1907 - accuracy: 0.9252 - val_loss: 0.3336 - val_accuracy: 0.8125\n"
     ]
    }
   ],
   "source": [
    "model.compile(loss='binary_crossentropy', optimizer='adam', metrics=['accuracy'])\n",
    "history = model.fit(train_generator, steps_per_epoch=train_steps_per_epoch, epochs=epochs,\n",
    "        validation_data=valid_generator, validation_steps=valid_steps_per_epoch)"
   ]
  },
  {
   "cell_type": "code",
   "execution_count": 7,
   "metadata": {},
   "outputs": [
    {
     "data": {
      "text/plain": [
       "<Figure size 432x288 with 0 Axes>"
      ]
     },
     "execution_count": 7,
     "metadata": {},
     "output_type": "execute_result"
    },
    {
     "data": {
      "image/png": "[encoded data removed]",
      "text/plain": [
       "<Figure size 432x288 with 1 Axes>"
      ]
     },
     "metadata": {
      "needs_background": "light"
     },
     "output_type": "display_data"
    },
    {
     "data": {
      "text/plain": [
       "<Figure size 432x288 with 0 Axes>"
      ]
     },
     "metadata": {},
     "output_type": "display_data"
    }
   ],
   "source": [
    "plt.plot(history.history['accuracy'], 'r', label='Training accuracy')\n",
    "plt.plot(history.history['val_accuracy'], 'b', label='Validation accuracy')\n",
    "plt.title('Training and validation accuracy')\n",
    "plt.legend(loc=0)\n",
    "plt.figure()"
   ]
  },
  {
   "cell_type": "code",
   "execution_count": 8,
   "metadata": {},
   "outputs": [
    {
     "name": "stdout",
     "output_type": "stream",
     "text": [
      "Found 624 images belonging to 2 classes.\n"
     ]
    }
   ],
   "source": [
    "batch_size_test = 32\n",
    "test_data_gen = tf.keras.preprocessing.image.ImageDataGenerator(rescale=1/255.0)\n",
    "test_generator = test_data_gen.flow_from_directory(os.path.join('chest_xray', 'test'), batch_size=batch_size_test,\n",
    "                                              target_size=(img_size,img_size), shuffle=True, class_mode='binary')\n",
    "\n",
    "test_steps = (len(os.listdir(os.path.join('chest_xray', 'test', 'NORMAL')))\n",
    "                        +len(os.listdir(os.path.join('chest_xray', 'test', 'PNEUMONIA'))))//batch_size_test"
   ]
  },
  {
   "cell_type": "code",
   "execution_count": 9,
   "metadata": {},
   "outputs": [
    {
     "name": "stdout",
     "output_type": "stream",
     "text": [
      "WARNING:tensorflow:From <ipython-input-9-6a9b44e9906e>:1: Model.evaluate_generator (from tensorflow.python.keras.engine.training) is deprecated and will be removed in a future version.\n",
      "Instructions for updating:\n",
      "Please use Model.evaluate, which supports generators.\n",
      "WARNING:tensorflow:sample_weight modes were coerced from\n",
      "  ...\n",
      "    to  \n",
      "  ['...']\n",
      "Test Loss is: 0.20766749903559684\n",
      "Test Accuracy is : 0.932692289352417\n"
     ]
    }
   ],
   "source": [
    "results = model.evaluate_generator(test_generator, test_steps+1)\n",
    "print(f'Test Loss is: {results[0]}')\n",
    "print(f'Test Accuracy is : {results[1]}')"
   ]
  },
  {
   "cell_type": "code",
   "execution_count": 10,
   "metadata": {},
   "outputs": [],
   "source": [
    "model.save('pneumonia-detection.h5')"
   ]
  }
 ],
 "metadata": {
  "kernelspec": {
   "display_name": "Python 3",
   "language": "python",
   "name": "python3"
  },
  "language_info": {
   "codemirror_mode": {
    "name": "ipython",
    "version": 3
   },
   "file_extension": ".py",
   "mimetype": "text/x-python",
   "name": "python",
   "nbconvert_exporter": "python",
   "pygments_lexer": "ipython3",
   "version": "3.7.7"
  }
 },
 "nbformat": 4,
 "nbformat_minor": 4
}
